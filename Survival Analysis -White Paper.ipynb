{
 "cells": [
  {
   "cell_type": "markdown",
   "metadata": {},
   "source": [
    "## Nick Zizos 22/09/2016"
   ]
  },
  {
   "cell_type": "markdown",
   "metadata": {},
   "source": [
    "# Survival Analysis"
   ]
  },
  {
   "cell_type": "code",
   "execution_count": 1,
   "metadata": {},
   "outputs": [],
   "source": [
    "% matplotlib inline"
   ]
  },
  {
   "cell_type": "markdown",
   "metadata": {},
   "source": [
    "<h2 id=\"tocheading\">Table of Contents</h2>\n",
    "<div id=\"toc\"></div>"
   ]
  },
  {
   "cell_type": "markdown",
   "metadata": {},
   "source": [
    "## Summary\n",
    "\n",
    "Survival Analysis is not a new technique - It has been used in the field of Engineering and medical research for years. It is an alternative (and arguably more statistically accurate) way of understanding churn, as is another mechanism to understand along with retention.\n",
    "\n",
    "As a basic description:\n",
    "\n",
    "* Survival Analysis provides a better understanding of customer churn.\n",
    "\n",
    "\n",
    "* Survival Curves shows the probability that a player will still be playing the game past a certain date.\n",
    "\n",
    "\n",
    "* Alongside Survival, Hazard analysis can show when the users are churning out of our games. Hazard Curves shows the rate at which players are leaving the game each day.\n",
    "\n",
    "\n",
    "* Using Cox proportional Hazards model (not part of this write-up) we can identify key features which drive users to have a shortened life in our games. DoT has successfully used this to understand new key actions to drive to increase longevity of users."
   ]
  },
  {
   "cell_type": "markdown",
   "metadata": {},
   "source": [
    "## Introduction to Survival Analysis"
   ]
  },
  {
   "cell_type": "markdown",
   "metadata": {},
   "source": [
    "* Survival analysis is generally defined as a set of methods for analysing data where the outcome variable is the time until the occurrence of an event of interest. The response is often referred to as a failure time, survival time, or event time. In our case it is the length of time (minutes or days etc. that the user plays our game before they lapse)\n",
    "\n",
    "\n",
    "* Observations are called censored when the information about their survival time is incomplete; the most commonly encountered form is right censoring."
   ]
  },
  {
   "cell_type": "markdown",
   "metadata": {},
   "source": [
    "#### Survival curves"
   ]
  },
  {
   "cell_type": "markdown",
   "metadata": {},
   "source": [
    "* If time to event has the probability density function $f(t)$ and cumulative distribution function $F(t)$, then the probability of surviving at least to time $t$ is: $Pr(T>t)=S(t)=1-F(t)$.\n",
    "    \n",
    "    The likelihood function for survival analysis is described as:\n",
    "\n",
    " $$ l(\\beta) = \\prod\\limits_{i=1}^n h(t_i)^{d_i} S(t_i) $$\n",
    "\n",
    "where $d_i$ is the censoring variable that equals to 1 if the event is observed for individual an $i$ and 0 if the event is not observed (censored). $h(t_i)$ is the hazard for individual $i$ at time $t$, $H(t_i)$ is the cumulative hazard for an individual $i$ at time $t$, and $S(t_i)$ is the survival probability at time $t$."
   ]
  },
  {
   "cell_type": "markdown",
   "metadata": {},
   "source": [
    "#### Hazard curves"
   ]
  },
  {
   "cell_type": "markdown",
   "metadata": {},
   "source": [
    "\n",
    "* Cumulative hazard at time $t$ is defined as $H(t)=-ln(S(t))$ and instantaneous hazard at time $t$ is     $h(t)=\\frac{dH(t)}{dt}$. The instantaneous hazard can also be written as $h(t)=\\frac{f(t)}{S(t)}$\n"
   ]
  },
  {
   "cell_type": "markdown",
   "metadata": {},
   "source": [
    "* Semi-parametric Methods\n",
    "\n",
    "Cox proportional hazard model estimates the hazard ratio of covariates with respect to a refence value, under the assumption that the estimated hazard ratios are constant (they do not depend on time) although the hazards might change. \n",
    "\n",
    "$$h(t)=h_{0}e^{\\bf{X^{T}}\\bf{\\beta}}$$\n",
    "\n",
    "where $h_{0}$ is the baseline hazard and $e^{\\bf{X^{T}}\\bf{\\beta}}$ is the hazard ratio, $\\bf{X}$ are the covariates and $\\bf{\\beta}$ are the coefficients. The baseline hazard $h_{0}$ is unspecified and is left out of the likelihood function. For this reason the Cox proportional hazards model has a partial likelihood function:\n",
    "\n",
    "$$ L(\\beta)=\\prod_{i=1}^{n}\\Bigg[\\frac{e^{x_{i}^{T}\\beta}}{\\sum_{k\\in{R(t_{i})}}e^{x_{k}^{T}\\beta}}\\Bigg]^{d_{i}} $$\n",
    "\n",
    "where $d_{i}$ is the censoring variable that equals to 1 if the an event occured at time $t_{i}$ and to 0 if the unit was censored at time $t_{i}$. Therefore only the units that experience the event contribute to the likelihood function. In the Cox proportional hazards likelihood function, the numerator is the hazard of unit $i$, and the denominator is the sum of the hazards of all units that are still under risk of event (did not experience the event and was not censored before the time at which unit $i$ experienced the event). Note that these hazards do not depend on the value of $t$, it is only the ordering of $t$ that matters.\n",
    "\n",
    "The assumption is that each event time is unique, and there is only one possible value for the partial likelihood at time $i$. This assumption does not hold for many types of data, including the data set we are working with here. Many groups ended within the first year of their start (these are assumed to have a survival time of 1 year). Because we do not have more precise information on survival times which would have allowed us to have uniqe event times for the groups who have ended, we have to use an approximation method. \n",
    "  \n",
    "The first approximation method is the 'exact method' which finds the likelihood function value for a survival time $i$ as the sum of the probability of each permutation of event time orderings at that time. But this method is computationally too expensive. Instead Efron approximation is often used. Efron approximation likelihood is given by:\n",
    "\n",
    "$$ L(\\beta)=\\prod_{i=1}^{n}\\Bigg[\\frac{e^{x_{i}\\beta}}{\\prod_{k=1}^{d_{1}}(\\sum_{j\\in{R_{t_{i}}}} e^{x_{j}\\beta}-\\frac{k-1}{d_{i}}\\sum_{j\\in{D_{t_{i}}}}e^{x_{j}\\beta})}\\Bigg]^{d_{i}}$$\n",
    "\n",
    "where $d_{i}$ is the number of ties at time $t_{i}$, $D_{t_{i}}$ denotes the units that experienced the event at time $t_{i}$ and $R_{t_{i}}$ denotes the units that are still at risk of event at time $t_{i}$. We can use the CoxPHFitter from Lifelines package to fit a Cox proportional hazards model. The default approximation method in CoxPHFitter is the Efron approximation."
   ]
  },
  {
   "cell_type": "markdown",
   "metadata": {},
   "source": [
    "## Difference between survival and retention-Why we should use survival curve"
   ]
  },
  {
   "cell_type": "markdown",
   "metadata": {},
   "source": [
    "* Unlike ordinary regression models, survival methods correctly incorporate information from both censored and uncensored observations in estimating important model parameters. This means that even users that we do not know whether they have churned are still incorporated into the model\n",
    "\n",
    "\n",
    "* Hazard Curve Helps us identify at which stage of the game has the highest churn rate\n",
    "\n",
    "\n",
    "* The main difference between Survival and retention is survival is independent of the effect of play frequency. As an example, a game that has an average days played per week of 3, means that retention will only pick that user up 3 out of 7 days of play (on average). This leads to fluctuations in the retention metric. Survival has been proven to be a more robust performance indicator."
   ]
  },
  {
   "cell_type": "markdown",
   "metadata": {},
   "source": [
    "## Lifelines Package for Survival Analysis\n",
    "\n",
    "* lifelines is a implementation of survival analysis in Python. What benefits does lifelines offer over other survival analysis implementations?\n",
    "\n",
    "* built on top of Pandas\n",
    "* internal plotting methods\n",
    "* simple and intuitive API (designed for humans)\n",
    "* only does survival analysis (No unnecessary features or second-class implementations)\n",
    "\n",
    "http://lifelines.readthedocs.io/en/latest/Quickstart.html"
   ]
  },
  {
   "cell_type": "markdown",
   "metadata": {},
   "source": [
    "### Calculating survival curves in python: an example of the lifelines package"
   ]
  },
  {
   "cell_type": "code",
   "execution_count": 2,
   "metadata": {},
   "outputs": [
    {
     "name": "stdout",
     "output_type": "stream",
     "text": [
      "\n",
      "select user_uid\n",
      ", firstdate::datetime\n",
      ", lastdate::datetime\n",
      "from star.v_user\n",
      "where game_id = 5002939\n",
      "and client_id in (2,3)\n",
      "and sn_id in (18,99)\n",
      "and firstdate between '2016-03-01' and '2016-08-03'\n",
      "group by user_uid\n",
      ", firstdate::datetime\n",
      ", lastdate::datetime\n",
      "\n"
     ]
    },
    {
     "data": {
      "text/html": [
       "<div>\n",
       "<table border=\"1\" class=\"dataframe\">\n",
       "  <thead>\n",
       "    <tr style=\"text-align: right;\">\n",
       "      <th></th>\n",
       "      <th>user_uid</th>\n",
       "      <th>firstdate</th>\n",
       "      <th>lastdate</th>\n",
       "    </tr>\n",
       "  </thead>\n",
       "  <tbody>\n",
       "    <tr>\n",
       "      <th>0</th>\n",
       "      <td>72157851438</td>\n",
       "      <td>2016-06-16</td>\n",
       "      <td>2016-06-16</td>\n",
       "    </tr>\n",
       "    <tr>\n",
       "      <th>1</th>\n",
       "      <td>71945055518</td>\n",
       "      <td>2016-03-16</td>\n",
       "      <td>2016-06-25</td>\n",
       "    </tr>\n",
       "    <tr>\n",
       "      <th>2</th>\n",
       "      <td>72082496710</td>\n",
       "      <td>2016-05-14</td>\n",
       "      <td>2016-05-14</td>\n",
       "    </tr>\n",
       "    <tr>\n",
       "      <th>3</th>\n",
       "      <td>72148394750</td>\n",
       "      <td>2016-06-12</td>\n",
       "      <td>2016-06-12</td>\n",
       "    </tr>\n",
       "    <tr>\n",
       "      <th>4</th>\n",
       "      <td>72256770662</td>\n",
       "      <td>2016-07-23</td>\n",
       "      <td>2016-07-23</td>\n",
       "    </tr>\n",
       "  </tbody>\n",
       "</table>\n",
       "</div>"
      ],
      "text/plain": [
       "      user_uid  firstdate   lastdate\n",
       "0  72157851438 2016-06-16 2016-06-16\n",
       "1  71945055518 2016-03-16 2016-06-25\n",
       "2  72082496710 2016-05-14 2016-05-14\n",
       "3  72148394750 2016-06-12 2016-06-12\n",
       "4  72256770662 2016-07-23 2016-07-23"
      ]
     },
     "execution_count": 2,
     "metadata": {},
     "output_type": "execute_result"
    }
   ],
   "source": [
    "from libanalytics.ztrack import make_vertica_query\n",
    "import pandas as pd\n",
    "\n",
    "users = make_vertica_query(\"\"\"\n",
    "select user_uid\n",
    ", firstdate::datetime\n",
    ", lastdate::datetime\n",
    "from star.v_user\n",
    "where game_id = 5002939\n",
    "and client_id in (2,3)\n",
    "and sn_id in (18,99)\n",
    "and firstdate between '2016-03-01' and '2016-08-03'\n",
    "group by user_uid\n",
    ", firstdate::datetime\n",
    ", lastdate::datetime\n",
    "\"\"\")\n",
    "users.head()"
   ]
  },
  {
   "cell_type": "markdown",
   "metadata": {},
   "source": [
    "We need to pre-process the data so that lifelines can use it:\n",
    "\n",
    "    * We want to get the recorded length of time the user was active - that is the days between install (firstdate) and its last DAU date (lastdate).\n",
    "    * We want whether we know the 'death' or churn of the user was recorded or they were censored.\n",
    "\n",
    "In our case we define a death event for a user as if we observe 14 days of inactivity of that user. at the time of writing this (2016-08-03) it means users will be cencored if they have played after 2016-07-20"
   ]
  },
  {
   "cell_type": "code",
   "execution_count": 3,
   "metadata": {},
   "outputs": [
    {
     "data": {
      "text/html": [
       "<div>\n",
       "<table border=\"1\" class=\"dataframe\">\n",
       "  <thead>\n",
       "    <tr style=\"text-align: right;\">\n",
       "      <th></th>\n",
       "      <th>user_uid</th>\n",
       "      <th>firstdate</th>\n",
       "      <th>lastdate</th>\n",
       "      <th>activity</th>\n",
       "      <th>cutoff</th>\n",
       "      <th>event</th>\n",
       "    </tr>\n",
       "  </thead>\n",
       "  <tbody>\n",
       "    <tr>\n",
       "      <th>0</th>\n",
       "      <td>72157851438</td>\n",
       "      <td>2016-06-16</td>\n",
       "      <td>2016-06-16</td>\n",
       "      <td>0.0</td>\n",
       "      <td>2016-07-20</td>\n",
       "      <td>1</td>\n",
       "    </tr>\n",
       "    <tr>\n",
       "      <th>1</th>\n",
       "      <td>71945055518</td>\n",
       "      <td>2016-03-16</td>\n",
       "      <td>2016-06-25</td>\n",
       "      <td>101.0</td>\n",
       "      <td>2016-07-20</td>\n",
       "      <td>1</td>\n",
       "    </tr>\n",
       "    <tr>\n",
       "      <th>2</th>\n",
       "      <td>72082496710</td>\n",
       "      <td>2016-05-14</td>\n",
       "      <td>2016-05-14</td>\n",
       "      <td>0.0</td>\n",
       "      <td>2016-07-20</td>\n",
       "      <td>1</td>\n",
       "    </tr>\n",
       "    <tr>\n",
       "      <th>3</th>\n",
       "      <td>72148394750</td>\n",
       "      <td>2016-06-12</td>\n",
       "      <td>2016-06-12</td>\n",
       "      <td>0.0</td>\n",
       "      <td>2016-07-20</td>\n",
       "      <td>1</td>\n",
       "    </tr>\n",
       "    <tr>\n",
       "      <th>4</th>\n",
       "      <td>72256770662</td>\n",
       "      <td>2016-07-23</td>\n",
       "      <td>2016-07-23</td>\n",
       "      <td>0.0</td>\n",
       "      <td>2016-07-20</td>\n",
       "      <td>0</td>\n",
       "    </tr>\n",
       "  </tbody>\n",
       "</table>\n",
       "</div>"
      ],
      "text/plain": [
       "      user_uid  firstdate   lastdate  activity     cutoff  event\n",
       "0  72157851438 2016-06-16 2016-06-16       0.0 2016-07-20      1\n",
       "1  71945055518 2016-03-16 2016-06-25     101.0 2016-07-20      1\n",
       "2  72082496710 2016-05-14 2016-05-14       0.0 2016-07-20      1\n",
       "3  72148394750 2016-06-12 2016-06-12       0.0 2016-07-20      1\n",
       "4  72256770662 2016-07-23 2016-07-23       0.0 2016-07-20      0"
      ]
     },
     "execution_count": 3,
     "metadata": {},
     "output_type": "execute_result"
    }
   ],
   "source": [
    "users['activity'] = (users['lastdate'] - users['firstdate']).astype('timedelta64[h]')/24\n",
    "users['cutoff'] = pd.to_datetime('2016-07-20')\n",
    "users['event'] = [0 if x['lastdate'] > x['cutoff'] else 1 for i, x in users.iterrows()]\n",
    "users.head()"
   ]
  },
  {
   "cell_type": "markdown",
   "metadata": {},
   "source": [
    "We can now start using the lifelines package. Remember to have installed it into your virtual environment using\n",
    "\n",
    "`pip install lifelines`\n",
    "\n",
    "If anyone has used scikit-learn, it works very similarly to the way you would fit a model using their methods."
   ]
  },
  {
   "cell_type": "code",
   "execution_count": 7,
   "metadata": {},
   "outputs": [
    {
     "data": {
      "text/plain": [
       "<lifelines.KaplanMeierFitter: fitted with 387226 observations, 46471 censored>"
      ]
     },
     "execution_count": 7,
     "metadata": {},
     "output_type": "execute_result"
    }
   ],
   "source": [
    "from lifelines import KaplanMeierFitter, NelsonAalenFitter\n",
    "kmf = KaplanMeierFitter()\n",
    "kmf.fit(users['activity'], event_observed=users['event'])"
   ]
  },
  {
   "cell_type": "markdown",
   "metadata": {},
   "source": [
    "We can now get the survival function using the in-built functions"
   ]
  },
  {
   "cell_type": "code",
   "execution_count": null,
   "metadata": {},
   "outputs": [],
   "source": [
    "kmf.survival_function_.plot()\n",
    "plt.title('Survival function of political regimes');"
   ]
  },
  {
   "cell_type": "markdown",
   "metadata": {},
   "source": [
    "And the hazard curve and differenced hazard curve. Note the differenced curve needs smoothing parameter to smooth the curve for better understanding"
   ]
  },
  {
   "cell_type": "code",
   "execution_count": 15,
   "metadata": {},
   "outputs": [
    {
     "data": {
      "text/plain": [
       "<matplotlib.axes._subplots.AxesSubplot at 0x125b3fed0>"
      ]
     },
     "execution_count": 15,
     "metadata": {},
     "output_type": "execute_result"
    },
    {
     "data": {
      "image/png": "[encoded data removed]",
      "text/plain": [
       "<matplotlib.figure.Figure at 0x124ce8190>"
      ]
     },
     "metadata": {},
     "output_type": "display_data"
    },
    {
     "data": {
      "image/png": "[encoded data removed]",
      "text/plain": [
       "<matplotlib.figure.Figure at 0x1256f2dd0>"
      ]
     },
     "metadata": {},
     "output_type": "display_data"
    }
   ],
   "source": [
    "naf = NelsonAalenFitter()\n",
    "naf.fit(users['activity'], event_observed=users['event'])\n",
    "naf.plot()\n",
    "naf.plot_hazard(bandwidth=5)"
   ]
  },
  {
   "cell_type": "markdown",
   "metadata": {},
   "source": [
    "## Useful references\n",
    "\n",
    "Here are a few references for Survival analysis\n",
    "\n",
    "    * http://lifelines.readthedocs.io/en/latest/index.html\n",
    "    * https://en.wikipedia.org/wiki/Survival_analysis\n",
    "\n",
    "And in particular if you want to know more about the Kaplan-Meier estimator and the Nelson-Aalen estimator for survival and hazard curves  you can find references here:\n",
    "    \n",
    "    * https://en.wikipedia.org/wiki/Kaplan%E2%80%93Meier_estimator\n",
    "    * https://en.wikipedia.org/wiki/Nelson%E2%80%93Aalen_estimator"
   ]
  },
  {
   "cell_type": "code",
   "execution_count": 19,
   "metadata": {},
   "outputs": [
    {
     "data": {
      "application/javascript": [
       "$.getScript('https://kmahelona.github.io/ipython_notebook_goodies/ipython_notebook_toc.js')"
      ],
      "text/plain": [
       "<IPython.core.display.Javascript object>"
      ]
     },
     "metadata": {},
     "output_type": "display_data"
    }
   ],
   "source": [
    "%%javascript\n",
    "$.getScript('https://kmahelona.github.io/ipython_notebook_goodies/ipython_notebook_toc.js')"
   ]
  }
 ],
 "metadata": {
  "kernelspec": {
   "display_name": "Python 3",
   "language": "python",
   "name": "python3"
  },
  "language_info": {
   "codemirror_mode": {
    "name": "ipython",
    "version": 3
   },
   "file_extension": ".py",
   "mimetype": "text/x-python",
   "name": "python",
   "nbconvert_exporter": "python",
   "pygments_lexer": "ipython3",
   "version": "3.6.5"
  },
  "widgets": {
   "state": {},
   "version": "1.1.1"
  }
 },
 "nbformat": 4,
 "nbformat_minor": 1
}
